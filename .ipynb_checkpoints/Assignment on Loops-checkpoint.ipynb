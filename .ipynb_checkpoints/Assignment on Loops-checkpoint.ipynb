{
 "cells": [
  {
   "cell_type": "code",
   "execution_count": 1,
   "metadata": {},
   "outputs": [
    {
     "name": "stdout",
     "output_type": "stream",
     "text": [
      "item: 1452 , data Type: <class 'int'>\n",
      "item: 11.23 , data Type: <class 'float'>\n",
      "item: (1+2j) , data Type: <class 'complex'>\n",
      "item: True , data Type: <class 'bool'>\n",
      "item: w3resource , data Type: <class 'str'>\n",
      "item: (0, -1) , data Type: <class 'tuple'>\n",
      "item: [5, 12] , data Type: <class 'list'>\n",
      "item: {'class': 'V', 'section': 'A'} , data Type: <class 'dict'>\n"
     ]
    }
   ],
   "source": [
    "# Question 1\n",
    "datalist = [1452, 11.23, 1+2j, True, 'w3resource', (0, -1), [5,12], {\"class\":'V', \"section\":'A'}]\n",
    "for item in datalist:\n",
    "    print(\"item:\",item,\", data Type:\", type(item))"
   ]
  },
  {
   "cell_type": "code",
   "execution_count": 2,
   "metadata": {},
   "outputs": [
    {
     "name": "stdout",
     "output_type": "stream",
     "text": [
      "0\n",
      "1\n",
      "2\n",
      "4\n",
      "5\n"
     ]
    }
   ],
   "source": [
    "# Question 2\n",
    "for i in range(0,7):\n",
    "    if i==3 or i==6:\n",
    "        continue\n",
    "    print(i) "
   ]
  },
  {
   "cell_type": "code",
   "execution_count": 3,
   "metadata": {},
   "outputs": [
    {
     "name": "stdout",
     "output_type": "stream",
     "text": [
      "0 1 2 4 5 "
     ]
    }
   ],
   "source": [
    "# Question 2\n",
    "for i in range(0,7):\n",
    "    if i==3 or i==6:\n",
    "        continue\n",
    "    else:\n",
    "        print(i, end=\" \")\n",
    "# annything in \"\" in ur end format of print gives you the output"
   ]
  },
  {
   "cell_type": "code",
   "execution_count": 4,
   "metadata": {},
   "outputs": [
    {
     "name": "stdout",
     "output_type": "stream",
     "text": [
      "1\n",
      "2\n",
      "Fizz\n",
      "4\n",
      "Buzz\n",
      "Fizz\n",
      "7\n",
      "8\n",
      "Fizz\n",
      "Buzz\n",
      "11\n",
      "Fizz\n",
      "13\n",
      "14\n",
      "FizzBuzz\n",
      "16\n",
      "17\n",
      "Fizz\n",
      "19\n",
      "Buzz\n",
      "Fizz\n",
      "22\n",
      "23\n",
      "Fizz\n",
      "Buzz\n",
      "26\n",
      "Fizz\n",
      "28\n",
      "29\n",
      "FizzBuzz\n",
      "31\n",
      "32\n",
      "Fizz\n",
      "34\n",
      "Buzz\n",
      "Fizz\n",
      "37\n",
      "38\n",
      "Fizz\n",
      "Buzz\n",
      "41\n",
      "Fizz\n",
      "43\n",
      "44\n",
      "FizzBuzz\n",
      "46\n",
      "47\n",
      "Fizz\n",
      "49\n",
      "Buzz\n"
     ]
    }
   ],
   "source": [
    "#Question 3\n",
    "for i in range(1,51):\n",
    "    if i%3==0 and i%5==0:\n",
    "        print (\"FizzBuzz\")\n",
    "    elif i%3==0:\n",
    "        print (\"Fizz\")\n",
    "    elif i%5==0:\n",
    "        print (\"Buzz\")\n",
    "    else:\n",
    "        print(i) "
   ]
  },
  {
   "cell_type": "code",
   "execution_count": null,
   "metadata": {},
   "outputs": [],
   "source": [
    "# Question 4\n",
    "for i in range(100,401):\n",
    "    if i % 2==0:\n",
    "        print (i)\n",
    "        continue \n",
    "#### have not gotten this correctly"
   ]
  },
  {
   "cell_type": "code",
   "execution_count": null,
   "metadata": {},
   "outputs": [],
   "source": []
  },
  {
   "cell_type": "code",
   "execution_count": 17,
   "metadata": {},
   "outputs": [
    {
     "name": "stdout",
     "output_type": "stream",
     "text": [
      "200,202,204,206,208,220,222,224,226,228,240,242,244,246,248,260,262,264,266,268,280,282,284,286,288,400\n"
     ]
    }
   ],
   "source": [
    "for number in range(100,400):\n",
    "    hasOddDigit=False\n",
    "    for digit in str(number):\n",
    "        if (int(digit)%2!=0):\n",
    "            hasOddDigit=True\n",
    "    if(not hasOddDigit):\n",
    "        print(number,end=\",\")\n",
    "print (400)\n",
    "# we removed 400 from the list above since we already know 400 is in the list, the go out of the loop and print 400"
   ]
  },
  {
   "cell_type": "code",
   "execution_count": null,
   "metadata": {},
   "outputs": [],
   "source": []
  }
 ],
 "metadata": {
  "kernelspec": {
   "display_name": "Python 3",
   "language": "python",
   "name": "python3"
  },
  "language_info": {
   "codemirror_mode": {
    "name": "ipython",
    "version": 3
   },
   "file_extension": ".py",
   "mimetype": "text/x-python",
   "name": "python",
   "nbconvert_exporter": "python",
   "pygments_lexer": "ipython3",
   "version": "3.7.3"
  }
 },
 "nbformat": 4,
 "nbformat_minor": 2
}
