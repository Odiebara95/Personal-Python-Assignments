{
 "cells": [
  {
   "cell_type": "code",
   "execution_count": 1,
   "metadata": {},
   "outputs": [],
   "source": [
    "import pandas as pd"
   ]
  },
  {
   "cell_type": "markdown",
   "metadata": {},
   "source": [
    "## Panda Data Series"
   ]
  },
  {
   "cell_type": "code",
   "execution_count": 3,
   "metadata": {},
   "outputs": [
    {
     "name": "stdout",
     "output_type": "stream",
     "text": [
      "a     1\n",
      "b     3\n",
      "c    11\n",
      "d     5\n",
      "e     7\n",
      "f     4\n",
      "g     9\n",
      "dtype: int64\n"
     ]
    }
   ],
   "source": [
    "me= [1,3,11,5,7,4,9]\n",
    "paulvar = pd.Series(me, index = [\"a\", \"b\", \"c\", \"d\", \"e\", \"f\", \"g\"])\n",
    "print(paulvar)"
   ]
  },
  {
   "cell_type": "markdown",
   "metadata": {},
   "source": [
    "## Data Frames"
   ]
  },
  {
   "cell_type": "code",
   "execution_count": 6,
   "metadata": {},
   "outputs": [
    {
     "name": "stdout",
     "output_type": "stream",
     "text": [
      "          Classes  Time\n",
      "Mon  Data Science  9-11\n",
      "Wed       App Dev  11-2\n",
      "Fri       Web Dev   2-5\n"
     ]
    }
   ],
   "source": [
    "smartHub = {\n",
    "    \"Classes\": ['Data Science', 'App Dev', 'Web Dev'],\n",
    "    \"Time\": ['9-11', '11-2', '2-5']\n",
    "}\n",
    "\n",
    "df = pd.DataFrame(smartHub, index = \n",
    "                 [\"Mon\", \"Wed\", \"Fri\"])\n",
    "print(df)"
   ]
  },
  {
   "cell_type": "code",
   "execution_count": null,
   "metadata": {},
   "outputs": [],
   "source": []
  }
 ],
 "metadata": {
  "kernelspec": {
   "display_name": "Python 3",
   "language": "python",
   "name": "python3"
  },
  "language_info": {
   "codemirror_mode": {
    "name": "ipython",
    "version": 3
   },
   "file_extension": ".py",
   "mimetype": "text/x-python",
   "name": "python",
   "nbconvert_exporter": "python",
   "pygments_lexer": "ipython3",
   "version": "3.7.3"
  }
 },
 "nbformat": 4,
 "nbformat_minor": 2
}
