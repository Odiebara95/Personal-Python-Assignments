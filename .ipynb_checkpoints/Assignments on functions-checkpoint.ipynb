{
 "cells": [
  {
   "cell_type": "markdown",
   "metadata": {},
   "source": [
    "## Question 2 of function Assignment"
   ]
  },
  {
   "cell_type": "code",
   "execution_count": 23,
   "metadata": {},
   "outputs": [],
   "source": [
    "def vowelCount(sentence):\n",
    "        \"\"\"This function finds the probability of picking a vowel and \n",
    "        the probability of picking a consonant from a sentence entered by a user.\"\"\"\n",
    "        vowels=0\n",
    "        consonant=0\n",
    "        space=0\n",
    "        for i in sentence.lower():\n",
    "            if i in [\"a\",\"o\",\"u\",\"e\",\"i\"]:\n",
    "                vowels += 1 # augumented assignment\n",
    "            elif i in [\" \"]:\n",
    "                space += 1\n",
    "            else:\n",
    "                consonant += 1\n",
    "        sentenceLength= vowels + consonant + space\n",
    "        probConsonant= consonant/sentenceLength\n",
    "        probVowels= vowels/sentenceLength\n",
    "        print (\"number of vowels is:\",vowels,\"\\nNumber of consonant is:\",consonant)\n",
    "        print(\"Probability of picking a vowel is:\",probVowels)\n",
    "        print(\"Probability of picking a consonant is:\",probConsonant)"
   ]
  },
  {
   "cell_type": "code",
   "execution_count": 24,
   "metadata": {},
   "outputs": [
    {
     "name": "stdout",
     "output_type": "stream",
     "text": [
      "number of vowels is: 4 \n",
      "Number of consonant is: 3\n",
      "Probability of picking a vowel is: 0.4\n",
      "Probability of picking a consonant is: 0.3\n"
     ]
    }
   ],
   "source": [
    "vowelCount(\"i am a boy\")"
   ]
  },
  {
   "cell_type": "markdown",
   "metadata": {},
   "source": [
    "## Exercise 81: Compute the Hypotenuse"
   ]
  },
  {
   "cell_type": "code",
   "execution_count": 26,
   "metadata": {},
   "outputs": [],
   "source": [
    "def hypotenuse(a,b):\n",
    "    \"\"\"this program calculates the hypotenus of a right angled trangle by \n",
    "    inputing the two smallest sides and using the pythagoras theorem\"\"\"\n",
    "    hypotenuse=(a**2)+(b**2)\n",
    "    return hypotenuse"
   ]
  },
  {
   "cell_type": "code",
   "execution_count": 27,
   "metadata": {},
   "outputs": [
    {
     "data": {
      "text/plain": [
       "41"
      ]
     },
     "execution_count": 27,
     "metadata": {},
     "output_type": "execute_result"
    }
   ],
   "source": [
    "hypotenuse(4,5)"
   ]
  },
  {
   "cell_type": "markdown",
   "metadata": {},
   "source": [
    "## Exercise 83: Shipping Calculator"
   ]
  },
  {
   "cell_type": "code",
   "execution_count": 35,
   "metadata": {},
   "outputs": [],
   "source": [
    "def shippingCal(itemNumber):\n",
    "    \"\"\"a function that takes the\n",
    "number of items in the order as its only parameter.\"\"\"\n",
    "    if itemNumber==1:\n",
    "        shippingAmount=10.95\n",
    "    elif itemNumber>1:\n",
    "        shippingAmount=(((itemNumber-1)*2.95) + 10.95)\n",
    "    else:\n",
    "        print(\"invalid entry\")\n",
    "    return shippingAmount "
   ]
  },
  {
   "cell_type": "code",
   "execution_count": 36,
   "metadata": {},
   "outputs": [
    {
     "data": {
      "text/plain": [
       "16.85"
      ]
     },
     "execution_count": 36,
     "metadata": {},
     "output_type": "execute_result"
    }
   ],
   "source": [
    "shippingCal(3)"
   ]
  },
  {
   "cell_type": "code",
   "execution_count": 37,
   "metadata": {},
   "outputs": [
    {
     "data": {
      "text/plain": [
       "10.95"
      ]
     },
     "execution_count": 37,
     "metadata": {},
     "output_type": "execute_result"
    }
   ],
   "source": [
    "shippingCal(1)"
   ]
  },
  {
   "cell_type": "markdown",
   "metadata": {},
   "source": [
    "## Exercise 84: Median of Three Values"
   ]
  },
  {
   "cell_type": "code",
   "execution_count": 75,
   "metadata": {},
   "outputs": [],
   "source": [
    "def median(a,b,c):\n",
    "    if (a <= b and b <= c) or (c<= b and b <= a):\n",
    "        print (\"the median is:\",b)\n",
    "    elif (b <= c and c <= a) or  (a <= c and c <= b):\n",
    "        print  (\"the median is:\",c)\n",
    "    elif (c <= a and a <= b) or (b <= a and a <= c):\n",
    "        print  (\"the median is:\",a)"
   ]
  },
  {
   "cell_type": "code",
   "execution_count": 76,
   "metadata": {},
   "outputs": [
    {
     "name": "stdout",
     "output_type": "stream",
     "text": [
      "the median is: 2\n"
     ]
    }
   ],
   "source": [
    "median(1,2,3)"
   ]
  },
  {
   "cell_type": "markdown",
   "metadata": {},
   "source": [
    "## Exercise 85: Convert an Integer to its Ordinal Number"
   ]
  },
  {
   "cell_type": "code",
   "execution_count": 84,
   "metadata": {},
   "outputs": [],
   "source": [
    "def ordinalNumber(integer):\n",
    "    if integer==1:\n",
    "        print(\"first\")\n",
    "    elif integer==2:\n",
    "        print(\"second\")\n",
    "    elif integer==3:\n",
    "        print(\"third\")\n",
    "    elif integer==4:\n",
    "        print(\"fourth\")\n",
    "    elif integer==5:\n",
    "        print(\"fifth\")\n",
    "    elif integer==6:\n",
    "        print(\"sixth\")\n",
    "    elif integer==7:\n",
    "        print(\"seventh\")\n",
    "    elif integer==8:\n",
    "        print(\"eighth\")\n",
    "    elif integer==9:\n",
    "        print(\"ninth\")\n",
    "    elif integer==10:\n",
    "        print(\"tenth\")\n",
    "    elif integer==11:\n",
    "        print(\"eleventh\")\n",
    "    elif integer==12:\n",
    "        print(\"twelfth\")\n",
    "    else:\n",
    "        print(\" \")\n",
    "    return ordinalNumber"
   ]
  },
  {
   "cell_type": "code",
   "execution_count": 85,
   "metadata": {},
   "outputs": [
    {
     "name": "stdout",
     "output_type": "stream",
     "text": [
      "sixth\n"
     ]
    },
    {
     "data": {
      "text/plain": [
       "<function __main__.ordinalNumber(integer)>"
      ]
     },
     "execution_count": 85,
     "metadata": {},
     "output_type": "execute_result"
    }
   ],
   "source": [
    "ordinalNumber(6)"
   ]
  },
  {
   "cell_type": "code",
   "execution_count": null,
   "metadata": {},
   "outputs": [],
   "source": []
  }
 ],
 "metadata": {
  "kernelspec": {
   "display_name": "Python 3",
   "language": "python",
   "name": "python3"
  },
  "language_info": {
   "codemirror_mode": {
    "name": "ipython",
    "version": 3
   },
   "file_extension": ".py",
   "mimetype": "text/x-python",
   "name": "python",
   "nbconvert_exporter": "python",
   "pygments_lexer": "ipython3",
   "version": "3.7.3"
  }
 },
 "nbformat": 4,
 "nbformat_minor": 2
}
