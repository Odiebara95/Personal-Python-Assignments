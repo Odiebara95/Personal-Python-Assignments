{
 "cells": [
  {
   "cell_type": "code",
   "execution_count": 1,
   "metadata": {},
   "outputs": [],
   "source": [
    "from random import randint\n",
    "def fairDice():\n",
    "    die1=randint(1,6)\n",
    "    die2=randint(1,6)\n",
    "    return die1+die2"
   ]
  },
  {
   "cell_type": "code",
   "execution_count": 2,
   "metadata": {},
   "outputs": [
    {
     "name": "stdout",
     "output_type": "stream",
     "text": [
      "{2: 26, 3: 49, 4: 78, 5: 118, 6: 138, 7: 191, 8: 142, 9: 87, 10: 84, 11: 59, 12: 28}\n"
     ]
    }
   ],
   "source": [
    "occurence={i:0 for i in range(2,13)} # dictionary comprehesion\n",
    "for i in range(1000):\n",
    "    outcome=fairDice()\n",
    "    occurence[outcome]+=1\n",
    "print(occurence)"
   ]
  },
  {
   "cell_type": "code",
   "execution_count": 7,
   "metadata": {},
   "outputs": [
    {
     "name": "stdout",
     "output_type": "stream",
     "text": [
      "Collecting tabulate\n",
      "  Downloading https://files.pythonhosted.org/packages/ca/80/7c0cad11bd99985cfe7c09427ee0b4f9bd6b048bd13d4ffb32c6db237dfb/tabulate-0.8.9-py3-none-any.whl\n",
      "Installing collected packages: tabulate\n",
      "Successfully installed tabulate-0.8.9\n"
     ]
    }
   ],
   "source": [
    "!pip install tabulate"
   ]
  },
  {
   "cell_type": "code",
   "execution_count": 8,
   "metadata": {},
   "outputs": [
    {
     "name": "stdout",
     "output_type": "stream",
     "text": [
      "Name      Age    Percent\n",
      "------  -----  ---------\n",
      "Mark       12         95\n",
      "Jay        11         88\n",
      "Jack       14         90\n"
     ]
    }
   ],
   "source": [
    "from tabulate import tabulate\n",
    "\n",
    "d= [ [\"Mark\", 12, 95],\n",
    "    [\"Jay\", 11, 88],\n",
    "    [\"Jack\", 14, 90]]\n",
    "print (tabulate(d, headers=[\"Name\", \"Age\", \"Percent\"]))"
   ]
  },
  {
   "cell_type": "code",
   "execution_count": null,
   "metadata": {},
   "outputs": [],
   "source": []
  }
 ],
 "metadata": {
  "kernelspec": {
   "display_name": "Python 3",
   "language": "python",
   "name": "python3"
  },
  "language_info": {
   "codemirror_mode": {
    "name": "ipython",
    "version": 3
   },
   "file_extension": ".py",
   "mimetype": "text/x-python",
   "name": "python",
   "nbconvert_exporter": "python",
   "pygments_lexer": "ipython3",
   "version": "3.7.3"
  }
 },
 "nbformat": 4,
 "nbformat_minor": 2
}
