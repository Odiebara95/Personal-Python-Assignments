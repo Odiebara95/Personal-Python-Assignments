{
 "cells": [
  {
   "cell_type": "code",
   "execution_count": 3,
   "metadata": {},
   "outputs": [],
   "source": [
    "from tkinter import *"
   ]
  },
  {
   "cell_type": "markdown",
   "metadata": {},
   "source": [
    "## Complete shift Cipher assignment"
   ]
  },
  {
   "cell_type": "code",
   "execution_count": null,
   "metadata": {},
   "outputs": [
    {
     "name": "stdout",
     "output_type": "stream",
     "text": [
      "kacoarcwn\n",
      "i am paul\n"
     ]
    }
   ],
   "source": [
    "def shiftLetter(letter,by=2):\n",
    "    alpha=list(\"abcdefghijklmnopqrstuvwxyz ,\")\n",
    "    index=(alpha.index(letter.lower())+by)%len(alpha)\n",
    "    return alpha[index]\n",
    "\n",
    "def encrypt(sentence):\n",
    "    sentence_trans=\"\"\n",
    "    for letter in sentence:\n",
    "        sentence_trans+= shiftLetter(letter)\n",
    "    return sentence_trans\n",
    "\n",
    "def decrypt(sentence):\n",
    "    sentence_trans=\"\"\n",
    "    for letter in sentence:\n",
    "        sentence_trans+= shiftLetter(letter,-2)\n",
    "    return sentence_trans\n",
    "\n",
    "def encryptIt():\n",
    "    content=text1.get(\"0.0\",END)\n",
    "    print(encrypt(content.strip()))\n",
    "    text2.delete(\"0.0\",END)\n",
    "    text2.insert(END,encrypt(content.strip()))\n",
    "\n",
    "def decryptIt():\n",
    "    content=text2.get(\"0.0\",END)\n",
    "    print(decrypt(content.strip()))\n",
    "    text1.delete(\"0.0\",END)\n",
    "    text1.insert(END,decrypt(content.strip()))\n",
    "\n",
    "root= Tk()\n",
    "root.geometry(\"500x600\")\n",
    "root.config(bg=\"#f6f8e3\")\n",
    "\n",
    "Label(root,text=\"My Shift Cipher\").grid(row=0)\n",
    "frame1=Frame(root)\n",
    "frame1.grid(row=1)\n",
    "Label(frame1,text=\"Plain Text\").grid(row=0,column=0,sticky=N)\n",
    "text1=Text(frame1,width=30,height=10)\n",
    "text1.grid(row=0,column=1)\n",
    "\n",
    "frame3=Frame(root)\n",
    "frame3.grid(row=2)\n",
    "Button(frame3,text=\"Encrypt\",command=encryptIt).grid(row=0,column=0)\n",
    "Button(frame3,text=\"Decrypt\", command=decryptIt).grid(row=0,column=1)\n",
    "\n",
    "frame2=Frame(root)\n",
    "frame2.grid(row=3)\n",
    "Label(frame2,text=\"Cipher Text\").grid(row=0,column=0,sticky=N)\n",
    "text2=Text(frame2,width=30,height=10)\n",
    "text2.grid(row=0,column=1)\n",
    "\n",
    "root.mainloop()"
   ]
  },
  {
   "cell_type": "code",
   "execution_count": null,
   "metadata": {},
   "outputs": [],
   "source": []
  }
 ],
 "metadata": {
  "kernelspec": {
   "display_name": "Python 3",
   "language": "python",
   "name": "python3"
  },
  "language_info": {
   "codemirror_mode": {
    "name": "ipython",
    "version": 3
   },
   "file_extension": ".py",
   "mimetype": "text/x-python",
   "name": "python",
   "nbconvert_exporter": "python",
   "pygments_lexer": "ipython3",
   "version": "3.7.3"
  }
 },
 "nbformat": 4,
 "nbformat_minor": 2
}
