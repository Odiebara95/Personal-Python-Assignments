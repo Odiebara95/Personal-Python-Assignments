{
 "cells": [
  {
   "cell_type": "code",
   "execution_count": null,
   "metadata": {},
   "outputs": [],
   "source": []
  },
  {
   "cell_type": "code",
   "execution_count": 18,
   "metadata": {},
   "outputs": [
    {
     "name": "stdout",
     "output_type": "stream",
     "text": [
      "['Smith,Smart,0816534422,2022-03-02 10:40:53.586016\\n', 'Mathew,King,0816534674,2022-03-02 10:41:57.243747\\n', ',3862183302716160612,,2022-03-02 10:54:49.878833\\n', 'Godwin,929500158325521685,,2022-03-02 10:56:50.480755\\n', 'Paul,3841710808827783368,97837873,2022-03-02 11:07:16.258387\\n', 'Odiebara,5462350185871508971,08101636398,2022-03-01 13:46:18.833965\\n']\n"
     ]
    },
    {
     "name": "stderr",
     "output_type": "stream",
     "text": [
      "Exception in Tkinter callback\n",
      "Traceback (most recent call last):\n",
      "  File \"C:\\Users\\NATH\\Anaconda3\\lib\\tkinter\\__init__.py\", line 1705, in __call__\n",
      "    return self.func(*args)\n",
      "  File \"<ipython-input-18-599c3c8d6a7b>\", line 14, in login\n",
      "    myUsername=users.split(\",\")[0]\n",
      "NameError: name 'users' is not defined\n"
     ]
    },
    {
     "name": "stdout",
     "output_type": "stream",
     "text": [
      "['Smith,Smart,0816534422,2022-03-02 10:40:53.586016\\n', 'Mathew,King,0816534674,2022-03-02 10:41:57.243747\\n', ',3862183302716160612,,2022-03-02 10:54:49.878833\\n', 'Godwin,929500158325521685,,2022-03-02 10:56:50.480755\\n', 'Paul,3841710808827783368,97837873,2022-03-02 11:07:16.258387\\n', 'Odiebara,5462350185871508971,08101636398,2022-03-01 13:46:18.833965\\n']\n"
     ]
    },
    {
     "name": "stderr",
     "output_type": "stream",
     "text": [
      "Exception in Tkinter callback\n",
      "Traceback (most recent call last):\n",
      "  File \"C:\\Users\\NATH\\Anaconda3\\lib\\tkinter\\__init__.py\", line 1705, in __call__\n",
      "    return self.func(*args)\n",
      "  File \"<ipython-input-18-599c3c8d6a7b>\", line 14, in login\n",
      "    myUsername=users.split(\",\")[0]\n",
      "NameError: name 'users' is not defined\n"
     ]
    },
    {
     "name": "stdout",
     "output_type": "stream",
     "text": [
      "['Smith,Smart,0816534422,2022-03-02 10:40:53.586016\\n', 'Mathew,King,0816534674,2022-03-02 10:41:57.243747\\n', ',3862183302716160612,,2022-03-02 10:54:49.878833\\n', 'Godwin,929500158325521685,,2022-03-02 10:56:50.480755\\n', 'Paul,3841710808827783368,97837873,2022-03-02 11:07:16.258387\\n', 'Odiebara,5462350185871508971,08101636398,2022-03-01 13:46:18.833965\\n']\n"
     ]
    },
    {
     "name": "stderr",
     "output_type": "stream",
     "text": [
      "Exception in Tkinter callback\n",
      "Traceback (most recent call last):\n",
      "  File \"C:\\Users\\NATH\\Anaconda3\\lib\\tkinter\\__init__.py\", line 1705, in __call__\n",
      "    return self.func(*args)\n",
      "  File \"<ipython-input-18-599c3c8d6a7b>\", line 14, in login\n",
      "    myUsername=users.split(\",\")[0]\n",
      "NameError: name 'users' is not defined\n"
     ]
    },
    {
     "name": "stdout",
     "output_type": "stream",
     "text": [
      "['Smith,Smart,0816534422,2022-03-02 10:40:53.586016\\n', 'Mathew,King,0816534674,2022-03-02 10:41:57.243747\\n', ',3862183302716160612,,2022-03-02 10:54:49.878833\\n', 'Godwin,929500158325521685,,2022-03-02 10:56:50.480755\\n', 'Paul,3841710808827783368,97837873,2022-03-02 11:07:16.258387\\n', 'Odiebara,5462350185871508971,08101636398,2022-03-01 13:46:18.833965\\n']\n"
     ]
    },
    {
     "name": "stderr",
     "output_type": "stream",
     "text": [
      "Exception in Tkinter callback\n",
      "Traceback (most recent call last):\n",
      "  File \"C:\\Users\\NATH\\Anaconda3\\lib\\tkinter\\__init__.py\", line 1705, in __call__\n",
      "    return self.func(*args)\n",
      "  File \"<ipython-input-18-599c3c8d6a7b>\", line 14, in login\n",
      "    myUsername=users.split(\",\")[0]\n",
      "NameError: name 'users' is not defined\n"
     ]
    }
   ],
   "source": [
    "from datetime import datetime\n",
    "\n",
    "from tkinter import *\n",
    "from tkinter import ttk\n",
    "from tkinter import messagebox\n",
    "\n",
    "def login():\n",
    "    username1=usernameVar.get()\n",
    "    password1=hash(passwordVar.get())\n",
    "    with open(\"users.txt\",\"r\") as file1:\n",
    "        myUsers=file1.readlines()\n",
    "    print(myUsers)\n",
    "    for user in myUsers:\n",
    "        myUsername=user.split(\",\")[0]\n",
    "        myPassword=user.split(\",\")[1]\n",
    "        if myUsername==username1 and myPassword==password1:\n",
    "            messagebox.showinfo(\"Success\",\"You are logged in\")\n",
    "        else:\n",
    "            messagebox.showerror(\"Invalid\",\"Username or password incorrect\")\n",
    "        return \n",
    "\n",
    "def registerUser():\n",
    "    username=usernameVar.get()\n",
    "    password=hash(passwordVar.get())\n",
    "    confirnPass=hash(conPasswordVar.get())\n",
    "    phone=phoneVar.get()\n",
    "    if password!=confirnPass:\n",
    "        messagebox.showerror(\"Password Error!\",\"Passwrd and confirm Password must match!!\")\n",
    "        print(\"Passwrd and confirm Password must match!!\")\n",
    "    else:\n",
    "        with open(\"users.txt\",\"r\") as file1:\n",
    "            myUsers=file1.readlines()\n",
    "        print(myUsers)\n",
    "        for user in myUsers:\n",
    "            myUsername=user.split(\",\")[0]\n",
    "            if myUsername==username:\n",
    "                messagebox.showerror(\"Duplicate\",\"Username already Exists\")\n",
    "                return \n",
    "        \n",
    "        file = open(\"users.txt\",\"a\")\n",
    "        date=datetime.now()\n",
    "        content=f\"{username},{password},{phone},{date}\\n\"\n",
    "        file.write(content)\n",
    "        file.close()\n",
    "        messagebox.showinfo(\"Success\",\"Your account has been created!\")\n",
    "\n",
    "\n",
    "def createAccount():\n",
    "    global passwordVar,conPasswordVar,usernameVar,phoneVar\n",
    "    new_window1=Toplevel()\n",
    "    new_window1.geometry(f\"{screen_width}x{screen_height}\")\n",
    "    lb1=LabelFrame(new_window1,text=\"Create Account\",bd=12,relief=\"ridge\")\n",
    "    lb1.pack()\n",
    "\n",
    "    Label(lb1,text=\"Username\").grid(row=1,column=1)\n",
    "    usernameVar=StringVar()\n",
    "    Entry(lb1,textvariable=usernameVar).grid(row=1,column=2)\n",
    "\n",
    "    Label(lb1,text=\"Password\").grid(row=2,column=1)\n",
    "    passwordVar=StringVar()\n",
    "    Entry(lb1,textvariable=passwordVar,show=\"*\").grid(row=2,column=2)\n",
    "    \n",
    "    Label(lb1,text=\"Confirm Password\").grid(row=3,column=1)\n",
    "    conPasswordVar=StringVar()\n",
    "    Entry(lb1,textvariable=conPasswordVar,show=\"*\").grid(row=3,column=2)\n",
    "    \n",
    "    Label(lb1,text=\"Phone\").grid(row=4,column=1)\n",
    "    phoneVar=StringVar()\n",
    "    Entry(lb1,textvariable=phoneVar).grid(row=4,column=2)\n",
    "\n",
    "    ttk.Button(lb1,\n",
    "               text=\"Create Account\",\n",
    "               command=registerUser).grid(row=5,column=1,columnspan=2)\n",
    "\n",
    "    Label(lb1,text=\"Have an account?\").grid(row=6,column=1)\n",
    "    ttk.Button(lb1,text=\"Login\",\n",
    "               command=createAccount\n",
    "              ).grid(row=6,column=2)\n",
    "                \n",
    "master = Tk()\n",
    "screen_width = master.winfo_screenwidth()\n",
    "screen_height = master.winfo_screenheight()\n",
    "master.geometry(f\"{screen_width}x{screen_height}\")\n",
    "Label(master,text=\"Point Of Sale\",\n",
    "      font=\"courier 30 bold\",\n",
    "      bd=7,relief=\"raised\").pack(ipady=6,ipadx=6)\n",
    "\n",
    "lb=LabelFrame(master,text=\"Login\",bd=12,relief=\"ridge\")\n",
    "lb.pack()\n",
    "\n",
    "Label(lb,text=\"Username\").grid(row=1,column=1)\n",
    "\n",
    "Entry(lb).grid(row=1,column=2)\n",
    "\n",
    "Label(lb,text=\"Password\").grid(row=2,column=1)\n",
    "Entry(lb).grid(row=2,column=2)\n",
    "\n",
    "ttk.Button(lb,text=\"Login\",command=login).grid(row=3,column=1,columnspan=2)\n",
    "\n",
    "\n",
    "ttk.Button(lb,text=\"Forgot Password\").grid(row=4,column=1,columnspan=2)\n",
    "\n",
    "\n",
    "Label(lb,text=\"Don't have an account?\").grid(row=5,column=1)\n",
    "ttk.Button(lb,text=\"Create Account\",\n",
    "           command=createAccount\n",
    "          ).grid(row=5,column=2)\n",
    "\n",
    "\n",
    "\n",
    "\n",
    "master.mainloop()\n"
   ]
  },
  {
   "cell_type": "code",
   "execution_count": null,
   "metadata": {},
   "outputs": [],
   "source": []
  }
 ],
 "metadata": {
  "kernelspec": {
   "display_name": "Python 3",
   "language": "python",
   "name": "python3"
  },
  "language_info": {
   "codemirror_mode": {
    "name": "ipython",
    "version": 3
   },
   "file_extension": ".py",
   "mimetype": "text/x-python",
   "name": "python",
   "nbconvert_exporter": "python",
   "pygments_lexer": "ipython3",
   "version": "3.7.3"
  }
 },
 "nbformat": 4,
 "nbformat_minor": 2
}
