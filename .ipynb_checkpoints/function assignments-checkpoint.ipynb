{
 "cells": [
  {
   "cell_type": "markdown",
   "metadata": {},
   "source": [
    "## Assignment on functions"
   ]
  },
  {
   "cell_type": "code",
   "execution_count": 30,
   "metadata": {},
   "outputs": [],
   "source": [
    "# Assignment 1 on functions\n",
    "def sentence(sentence):\n",
    "    \"\"\"this program reads in a sentence and tells you the number of vowels in that sentence\"\"\"\n",
    "    vowels=0\n",
    "    for i in sentence:\n",
    "        if(i== 'a' or i=='e' or i=='i' or i=='o' or i=='u'):\n",
    "                vowels=vowels+1\n",
    "        elif (i== 'A' or i=='E' or i=='I' or i=='O' or i=='U'):\n",
    "                vowels=vowels+1\n",
    "    print(\"<The number of vowels in>\", sentence,\"is:\", vowels)"
   ]
  },
  {
   "cell_type": "code",
   "execution_count": 31,
   "metadata": {},
   "outputs": [
    {
     "name": "stdout",
     "output_type": "stream",
     "text": [
      "<The number of vowels in> I am coming home to stay is: 8\n"
     ]
    }
   ],
   "source": [
    "sentence(\"I am coming home to stay\")"
   ]
  },
  {
   "cell_type": "code",
   "execution_count": 58,
   "metadata": {},
   "outputs": [],
   "source": [
    "# Assignment 2 on functions\n",
    "def prob(sentence):\n",
    "    \"\"\"this program reads in a sentence and tells you the probability of picking a vowel and consonant in the sentence\"\"\"\n",
    "    vowels=0\n",
    "    consonant=0\n",
    "    for i in sentence:\n",
    "        if(i== 'a' or i=='e' or i=='i' or i=='o' or i=='u'):\n",
    "            vowels=vowels+1\n",
    "        elif (i== 'A' or i=='E' or i=='I' or i=='O' or i=='U'):\n",
    "            vowels=vowels+1\n",
    "    print (\"<The number of vowels in>\", sentence,\"is:\", vowels)"
   ]
  },
  {
   "cell_type": "code",
   "execution_count": 59,
   "metadata": {},
   "outputs": [
    {
     "name": "stdout",
     "output_type": "stream",
     "text": [
      "<The number of vowels in> i am a boy is: 4\n"
     ]
    }
   ],
   "source": [
    "prob(\"i am a boy\")"
   ]
  },
  {
   "cell_type": "code",
   "execution_count": null,
   "metadata": {},
   "outputs": [],
   "source": []
  }
 ],
 "metadata": {
  "kernelspec": {
   "display_name": "Python 3",
   "language": "python",
   "name": "python3"
  },
  "language_info": {
   "codemirror_mode": {
    "name": "ipython",
    "version": 3
   },
   "file_extension": ".py",
   "mimetype": "text/x-python",
   "name": "python",
   "nbconvert_exporter": "python",
   "pygments_lexer": "ipython3",
   "version": "3.7.3"
  }
 },
 "nbformat": 4,
 "nbformat_minor": 2
}
