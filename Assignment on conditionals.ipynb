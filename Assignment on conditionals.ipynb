{
 "cells": [
  {
   "cell_type": "markdown",
   "metadata": {},
   "source": [
    "## Assignments done on my own"
   ]
  },
  {
   "cell_type": "code",
   "execution_count": 1,
   "metadata": {},
   "outputs": [
    {
     "name": "stdout",
     "output_type": "stream",
     "text": [
      "Enter number of items: 14\n",
      "Total cost is = $ 140\n"
     ]
    }
   ],
   "source": [
    "# this programs calcutae the total cost of buying items according to the Assignments\n",
    "# question 3\n",
    "items = int(input(\"Enter number of items: \"))\n",
    "if items<1:\n",
    "    print (\"Pls purchase at least one item\")\n",
    "elif items<10:\n",
    "    print (\"Total cost is = $\",items*12)\n",
    "elif items<100:\n",
    "    print (\"Total cost is = $\",items*10)\n",
    "else: \n",
    "    print (\"Total cost is = $\",items*7)"
   ]
  },
  {
   "cell_type": "markdown",
   "metadata": {},
   "source": [
    "### Exercise 35: Dog Year"
   ]
  },
  {
   "cell_type": "code",
   "execution_count": 10,
   "metadata": {},
   "outputs": [
    {
     "name": "stdout",
     "output_type": "stream",
     "text": [
      "Enter Human Year/years': 4\n",
      "dog is =  29.0 years old\n"
     ]
    }
   ],
   "source": [
    "human_years = float(input(\"Enter Human Year/years': \"))\n",
    "cal= ((human_years-2)*4 + 21)\n",
    "if human_years<0:\n",
    "    print (\"number of year/years is not applicable\")\n",
    "elif human_years>0 and human_years<=2:\n",
    "    print (\"dog is = \",human_years*10.5,\"years old\")\n",
    "else:\n",
    "    print (\"dog is = \",cal,\"years old\") "
   ]
  }
 ],
 "metadata": {
  "kernelspec": {
   "display_name": "Python 3",
   "language": "python",
   "name": "python3"
  },
  "language_info": {
   "codemirror_mode": {
    "name": "ipython",
    "version": 3
   },
   "file_extension": ".py",
   "mimetype": "text/x-python",
   "name": "python",
   "nbconvert_exporter": "python",
   "pygments_lexer": "ipython3",
   "version": "3.7.3"
  }
 },
 "nbformat": 4,
 "nbformat_minor": 2
}
