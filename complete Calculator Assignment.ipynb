{
 "cells": [
  {
   "cell_type": "code",
   "execution_count": 22,
   "metadata": {},
   "outputs": [
    {
     "name": "stdout",
     "output_type": "stream",
     "text": [
      "-49.135\n"
     ]
    }
   ],
   "source": [
    "from tkinter import *\n",
    "from tkinter import ttk\n",
    "def showText(val):\n",
    "    entry.insert(END,val)\n",
    "    \n",
    "def removeLast():\n",
    "    print(entry.get())\n",
    "    new_val=entry.get()[:-1]\n",
    "    print(new_val)\n",
    "    entry.delete(\"0\",\"end\")\n",
    "    entry.insert(\"end\",new_val)\n",
    "    \n",
    "def compute():\n",
    "    val = eval(entry.get())\n",
    "    print(val)\n",
    "    entry.delete(\"0\",\"end\")\n",
    "    entry.insert(\"end\",str(val))\n",
    "    \n",
    "def clearAll():\n",
    "    val = entry.get()\n",
    "    entry.delete(\"0\", \"end\")\n",
    "    \n",
    "root = Tk(className=\" Arithmetic Calculator\")\n",
    "root.config(bg=\"magenta\")\n",
    "\n",
    "entry=ttk.Entry(root,width=20,font=\"courier 18 bold\")\n",
    "\n",
    "entry.grid(row=0,column=1,pady=5,ipady=6,columnspan=4)\n",
    "ttk.Button(root,text=\"1\",command=lambda:showText(\"1\")).grid(row=1,column=1,pady=5,padx=5)\n",
    "ttk.Button(root,text=\"2\",command=lambda:showText('2')).grid(row=1,column=2,pady=5,padx=5)\n",
    "ttk.Button(root,text=\"3\",command=lambda:showText(\"3\")).grid(row=1,column=3,pady=5,padx=5)\n",
    "ttk.Button(root,text=\"+\",command=lambda:showText(\"+\")).grid(row=1,column=4,pady=5,padx=5)\n",
    "\n",
    "ttk.Button(root,text=\"4\",command=lambda:showText(\"4\")).grid(row=2,column=1,pady=5,padx=5)\n",
    "ttk.Button(root,text=\"5\",command=lambda:showText(\"5\")).grid(row=2,column=2,pady=5,padx=5)\n",
    "ttk.Button(root,text=\"6\",command=lambda:showText(\"6\")).grid(row=2,column=3,pady=5,padx=5)\n",
    "ttk.Button(root,text=\"-\",command=lambda:showText(\"-\")).grid(row=2,column=4,pady=5,padx=5)\n",
    "\n",
    "ttk.Button(root,text=\"7\",command=lambda:showText(\"7\")).grid(row=3,column=1,pady=5,padx=5)\n",
    "ttk.Button(root,text=\"8\",command=lambda:showText(\"8\")).grid(row=3,column=2,pady=5,padx=5)\n",
    "ttk.Button(root,text=\"9\",command=lambda:showText(\"9\")).grid(row=3,column=3,pady=5,padx=5)\n",
    "ttk.Button(root,text=\"x\",command=lambda:showText(\"*\")).grid(row=3,column=4,pady=5,padx=5)\n",
    "\n",
    "ttk.Button(root,text=\".\",command=lambda:showText(\".\")).grid(row=4,column=1,pady=5,padx=5)\n",
    "ttk.Button(root,text=\"0\",command=lambda:showText(\"0\")).grid(row=4,column=2,pady=5,padx=5)\n",
    "ttk.Button(root,text=\"c\",command=removeLast).grid(row=4,column=3,pady=5,padx=5)\n",
    "ttk.Button(root,text=chr(247), command=lambda:showText(\"/\")).grid(row=4,column=4,pady=5,padx=5)\n",
    "\n",
    "ttk.Button(root,text=\"clear\", command=clearAll).grid(row=5,column=1,columnspan=2,padx=5,pady=5)\n",
    "ttk.Button(root,text=\"=\",command=compute).grid(row=5,column=3,columnspan=2,padx=5,pady=5)\n",
    "\n",
    "root.mainloop()"
   ]
  },
  {
   "cell_type": "code",
   "execution_count": 20,
   "metadata": {},
   "outputs": [
    {
     "ename": "SyntaxError",
     "evalue": "EOL while scanning string literal (<ipython-input-20-b07b6691eb4b>, line 1)",
     "output_type": "error",
     "traceback": [
      "\u001b[1;36m  File \u001b[1;32m\"<ipython-input-20-b07b6691eb4b>\"\u001b[1;36m, line \u001b[1;32m1\u001b[0m\n\u001b[1;33m    eval(\"4*8+3)\u001b[0m\n\u001b[1;37m                ^\u001b[0m\n\u001b[1;31mSyntaxError\u001b[0m\u001b[1;31m:\u001b[0m EOL while scanning string literal\n"
     ]
    }
   ],
   "source": [
    "eval(\"4*8+3)"
   ]
  },
  {
   "cell_type": "code",
   "execution_count": null,
   "metadata": {},
   "outputs": [],
   "source": []
  }
 ],
 "metadata": {
  "kernelspec": {
   "display_name": "Python 3",
   "language": "python",
   "name": "python3"
  },
  "language_info": {
   "codemirror_mode": {
    "name": "ipython",
    "version": 3
   },
   "file_extension": ".py",
   "mimetype": "text/x-python",
   "name": "python",
   "nbconvert_exporter": "python",
   "pygments_lexer": "ipython3",
   "version": "3.7.3"
  }
 },
 "nbformat": 4,
 "nbformat_minor": 2
}
